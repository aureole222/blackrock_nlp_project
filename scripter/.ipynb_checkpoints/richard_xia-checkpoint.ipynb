{
 "cells": [
  {
   "cell_type": "code",
   "execution_count": 1,
   "metadata": {},
   "outputs": [],
   "source": [
    "import requests\n",
    "import lxml.html as lh\n",
    "import pandas as pd\n",
    "import sqlite3\n",
    "import PyPDF2\n",
    "from bs4 import BeautifulSoup"
   ]
  },
  {
   "cell_type": "code",
   "execution_count": null,
   "metadata": {},
   "outputs": [],
   "source": []
  },
  {
   "cell_type": "code",
   "execution_count": null,
   "metadata": {},
   "outputs": [],
   "source": []
  },
  {
   "cell_type": "code",
   "execution_count": null,
   "metadata": {},
   "outputs": [],
   "source": []
  },
  {
   "cell_type": "code",
   "execution_count": 19,
   "metadata": {},
   "outputs": [],
   "source": []
  },
  {
   "cell_type": "code",
   "execution_count": null,
   "metadata": {
    "scrolled": true
   },
   "outputs": [],
   "source": []
  },
  {
   "cell_type": "code",
   "execution_count": null,
   "metadata": {},
   "outputs": [],
   "source": []
  },
  {
   "cell_type": "code",
   "execution_count": null,
   "metadata": {
    "scrolled": true
   },
   "outputs": [],
   "source": []
  },
  {
   "cell_type": "code",
   "execution_count": 38,
   "metadata": {},
   "outputs": [],
   "source": []
  },
  {
   "cell_type": "code",
   "execution_count": null,
   "metadata": {
    "scrolled": true
   },
   "outputs": [],
   "source": []
  },
  {
   "cell_type": "code",
   "execution_count": null,
   "metadata": {},
   "outputs": [],
   "source": []
  },
  {
   "cell_type": "code",
   "execution_count": null,
   "metadata": {},
   "outputs": [],
   "source": []
  },
  {
   "cell_type": "code",
   "execution_count": null,
   "metadata": {},
   "outputs": [],
   "source": []
  },
  {
   "cell_type": "code",
   "execution_count": null,
   "metadata": {},
   "outputs": [],
   "source": []
  },
  {
   "cell_type": "code",
   "execution_count": null,
   "metadata": {},
   "outputs": [],
   "source": []
  },
  {
   "cell_type": "code",
   "execution_count": 9,
   "metadata": {},
   "outputs": [
    {
     "name": "stdout",
     "output_type": "stream",
     "text": [
      "current year 2020\n",
      " on the 54 articlecurrent year 2019\n",
      " on the 49 article2019-49 failed\n",
      " on the 88 articlecurrent year 2018\n",
      " on the 72 articlecurrent year 2017\n",
      " on the 70 articlecurrent year 2016\n",
      " on the 74 articlecurrent year 2015\n",
      " on the 96 articlecurrent year 2014\n",
      " on the 126 articlecurrent year 2013\n",
      " on the 125 articlecurrent year 2012\n",
      " on the 43 article2012-43 failed\n",
      " on the 101 articlecurrent year 2011\n",
      " on the 106 articlecurrent year 2010\n",
      " on the 102 articlecurrent year 2009\n",
      " on the 84 articlecurrent year 2008\n",
      " on the 117 articlecurrent year 2007\n",
      " on the 102 articlecurrent year 2006\n",
      " on the 80 articlecurrent year 2005\n",
      " on the 85 articlecurrent year 2004\n",
      " on the 92 articlecurrent year 2003\n",
      " on the 89 articlecurrent year 2002\n",
      " on the 78 articlecurrent year 2001\n",
      " on the 81 articlecurrent year 2000\n",
      " on the 65 article"
     ]
    }
   ],
   "source": [
    "ECB_docs = []\n",
    "ECB_titles = []\n",
    "ECB_dates = []\n",
    "ECB_category = []\n",
    "ECB_URLs = []\n",
    "\n",
    "for ii in range(21):\n",
    "    print('current year {}'.format(2020-ii))\n",
    "    page = requests.get('https://www.ecb.europa.eu/press/pr/date/{}/html/index_include.en.html'.format(2020-ii))\n",
    "    soup = BeautifulSoup(page.content, 'html.parser')\n",
    "    Countent = soup.find_all('a')\n",
    "    links = []\n",
    "    titles = []\n",
    "    for p in Countent:\n",
    "        if not p.find(class_='arrow') and not p.find(class_='ecb-full') and '.html' in p['href'] and 'English' not in str(p):\n",
    "            links.append('https://www.ecb.europa.eu'+p['href'])\n",
    "            titles.append(p.get_text())\n",
    "    for n,urls in enumerate(links):\n",
    "        print('\\r on the {} article'.format(n),end='')\n",
    "        try:\n",
    "            page = requests.get(urls)\n",
    "            soup = BeautifulSoup(page.content, 'html.parser')\n",
    "            Countent = soup.find_all('', class_='ecb-pressContent')[0]\n",
    "            content = []\n",
    "            for item in list(Countent.children):\n",
    "                try: \n",
    "                    item.children        \n",
    "                    for i in item.children:\n",
    "                        if 'href=' not in str(i) and 'media queries' not in str(i) and 'media enquiries' not in str(i):\n",
    "                            try: content.append(i.get_text()) \n",
    "                            except: pass\n",
    "                except:\n",
    "                    pass\n",
    "            category = soup.find_all('', class_='ecb-pressCategory')[0].get_text()\n",
    "            try:\n",
    "                Date = soup.find_all('', class_='ecb-pressContentPubDate')[0].get_text()\n",
    "            except:\n",
    "                Date = soup.find_all('', class_='ecb-publicationDate')[0].get_text()\n",
    "            Countent = content[3:]\n",
    "            kind = 'Press'\n",
    "            ECB_docs.append(' \\newline '.join(Countent))\n",
    "            ECB_titles.append(titles[n])\n",
    "            ECB_dates.append(Date)\n",
    "            ECB_category.append(kind)\n",
    "            ECB_URLs.append(urls)\n",
    "        except:\n",
    "            try:\n",
    "                a = soup.find_all('', class_='publication')[0]\n",
    "                Countent = []\n",
    "                for item in a.children:\n",
    "                    if 'footnotes' not in str(item) and 'impressum' not in str(item):\n",
    "                        Countent.append(item.get_text())\n",
    "                kind = 'Publication'\n",
    "                ECB_docs.append(' ##newline## '.join(Countent))\n",
    "                ECB_titles.append(titles[n])\n",
    "                ECB_dates.append(Date)\n",
    "                ECB_category.append(kind)\n",
    "                ECB_URLs.append(urls)\n",
    "            except:\n",
    "                print('{}-{} failed'.format(2020-ii,n))\n",
    "                pass\n",
    "\n",
    "        \n",
    "\n"
   ]
  },
  {
   "cell_type": "code",
   "execution_count": null,
   "metadata": {},
   "outputs": [],
   "source": []
  },
  {
   "cell_type": "code",
   "execution_count": null,
   "metadata": {},
   "outputs": [],
   "source": []
  },
  {
   "cell_type": "code",
   "execution_count": null,
   "metadata": {},
   "outputs": [],
   "source": []
  },
  {
   "cell_type": "code",
   "execution_count": null,
   "metadata": {},
   "outputs": [],
   "source": []
  },
  {
   "cell_type": "code",
   "execution_count": 19,
   "metadata": {},
   "outputs": [],
   "source": [
    "ECB_data = pd.DataFrame({'ECB_dates':ECB_dates,'ECB_category':ECB_category,'ECB_titles':ECB_titles,'ECB_URLs':ECB_URLs,'ECB_docs':ECB_docs})\n",
    "ECB_data.ECB_docs =  ECB_data.ECB_docs.str.replace(' \\newline ', ' ##newline## ', regex=True)\n",
    "ECB_data.to_csv('ECB_news.csv')"
   ]
  },
  {
   "cell_type": "code",
   "execution_count": 18,
   "metadata": {},
   "outputs": [],
   "source": [
    "# ECB_data.ECB_dates = ECB_data.ECB_dates.str.replace('\\n', '', regex=True)\n",
    "# ECB_data.ECB_category = ECB_data.ECB_category.str.replace('\\n', '', regex=True)\n",
    "# ECB_data.ECB_titles = ECB_data.ECB_titles.str.replace('\\n', '', regex=True)\n",
    "# ECB_data.ECB_docs =  ECB_data.ECB_docs.str.replace('\\n', '', regex=True)\n"
   ]
  },
  {
   "cell_type": "code",
   "execution_count": 17,
   "metadata": {},
   "outputs": [],
   "source": [
    "ECB_data.ECB_docs =  ECB_data.ECB_docs.str.replace(' \\newline ', ' ##newline## ', regex=True)\n"
   ]
  },
  {
   "cell_type": "markdown",
   "metadata": {},
   "source": [
    "# Bank of England"
   ]
  },
  {
   "cell_type": "code",
   "execution_count": null,
   "metadata": {},
   "outputs": [],
   "source": [
    "import requests \n",
    "page = requests.get('https://www.bankofengland.co.uk/news/news')\n",
    "session = requests.Session()\n",
    "session.head('https://www.bankofengland.co.uk/news/news')\n",
    "\n",
    "response = requests.post(\n",
    "    url='https://www.bankofengland.co.uk/_api/News/RefreshPagedNewsList',\n",
    "    data={\n",
    "        'Id': '%7BCE377CC8-BFBC-418B-B4D9-DBC1C64774A8%7D',\n",
    "        'PageSize': '30',\n",
    "        'NewsTypesAvailable%5B%5D': '09f8960ebc384e3589da5349744916ae',\n",
    "        'Page': '8',\n",
    "        'Grid' : 'false'\n",
    "        \n",
    "    },\n",
    "    headers={\n",
    "        'authority': 'www.bankofengland.co.uk',\n",
    "        'method': 'POST',\n",
    "        'path': '/_api/News/RefreshPagedNewsList',\n",
    "        'scheme': 'https',\n",
    "        'accept': '*/*',\n",
    "        'accept-encoding': 'gzip, deflate, br',\n",
    "        'accept-language': 'en-GB,en-US;q=0.9,en;q=0.8,zh-CN;q=0.7,zh;q=0.6',\n",
    "        'content-length': '181',\n",
    "        'content-type': 'application/x-www-form-urlencoded; charset=UTF-8',\n",
    "        'cookie': 'boeconsent=analytics; _ga=GA1.3.2003282253.1589483466; SC_ANALYTICS_GLOBAL_COOKIE=bbd29d6553704a4e96072b008d7a38ad|True; _gid=GA1.3.1968674965.1590867561; ak_bmsc=1BB2ADF5C3A06C9D957EDDC0AFB44F7D17D14997DA73000068B6D25EC806DC41~ploR4wcoZkAae/TkAar7UdTo2pOi6Io6clCfFY5kEt+PLqWKzgWDGPFXIrE0LcAISwdILfZfGZuaufxquusW5x+xIAFO0Zre8BxlkJ14gajPDkKxBpc84qdwUDn/J8wJhXClVofmh1uT6eqf94VqunG34Ribqg8refMowibuBxTntgniRYAWXIWgWKxBHU+4gsLs0eoneeuT7jDIVxHj+HO8msHN78XxMiJoDvw9Ck1+mcMzYiK3fzDQjTBOJcMwAV; ASP.NET_SessionId=wgxd5bktklu3vuaxheci32lr; __RequestVerificationToken=fu5B_J89E2pHjXVU3hQBnFzKSKPmKIGW1ru-E7hCB65TFOR165-i-hcV_yHJ8ZUDY8aBlKCXDd7zUJJFeMBPCbgbGD81; _ce.s=v~vyLRZuqXu4_VPVkbcpd-zkefuPk~ir~1; ROUTEID=.2; ASPSESSIONIDCCDCCDTS=HDPPNHOAIJIJDFPJHHIGJABE; AKA_A2=A; _gat_UA-5804066-4=1; TS01b80d1f=01b7ed2270ad13cd82113c7f7f50574c990d0440e4607c130f0ebb98a01fa583255b28922bcaa3ebe687713c946cfd7ef68e097f501d233cacd478c3ec77317f2eac9a6900ab6f44c66fc3161bd0a82cd1e968e633e4f733a534bba0941e94da9aa1dcd3504cbc2c2a9e0bfc0a3085fbdfeb220341; bm_sv=636B2F1AC5FD960BF38FAA81C6124F72~+nEGhqdnFJNU5bU8EOA+oos8GZcqgu4c4CWpcEOZd49KAiF3Tg31PT1r6Nk8b/bzviK7/3Y/LX9ztp7FbnhiMyb05ebrO0MMHwDoNJKmWbgxJcOJC+A+E0EqXqk4AO4gKYa+ifvKeCf6vzCuaROgW2U7D8wQHByBiq7SlxMpxNM=; _gali=item-0',        'origin': 'https://www.bankofengland.co.uk',\n",
    "        'referer': 'https://www.bankofengland.co.uk/news/news',\n",
    "        }\n",
    ")\n",
    "response.text"
   ]
  },
  {
   "cell_type": "code",
   "execution_count": 36,
   "metadata": {},
   "outputs": [],
   "source": [
    "news_and_minutes = pd.read_csv('Newsandminutes_BankofEngland.csv')\n",
    "BOE_MPC_news = news_and_minutes.loc[news_and_minutes['tag']=='// News // Monetary Policy Committee (MPC)',:]\n"
   ]
  },
  {
   "cell_type": "markdown",
   "metadata": {},
   "source": [
    "### Download MPC documents"
   ]
  },
  {
   "cell_type": "code",
   "execution_count": 167,
   "metadata": {},
   "outputs": [
    {
     "name": "stdout",
     "output_type": "stream",
     "text": [
      " working on 52 document"
     ]
    },
    {
     "name": "stderr",
     "output_type": "stream",
     "text": [
      "SettingWithCopyWarning: \n",
      "A value is trying to be set on a copy of a slice from a DataFrame.\n",
      "Try using .loc[row_indexer,col_indexer] = value instead\n",
      "\n",
      "See the caveats in the documentation: https://pandas.pydata.org/pandas-docs/stable/user_guide/indexing.html#returning-a-view-versus-a-copy [ipykernel_launcher.py:27]\n",
      "SettingWithCopyWarning: \n",
      "A value is trying to be set on a copy of a slice from a DataFrame.\n",
      "Try using .loc[row_indexer,col_indexer] = value instead\n",
      "\n",
      "See the caveats in the documentation: https://pandas.pydata.org/pandas-docs/stable/user_guide/indexing.html#returning-a-view-versus-a-copy [ipykernel_launcher.py:28]\n"
     ]
    }
   ],
   "source": [
    "import urllib.request\n",
    "pdf_locations = []\n",
    "if_downloaded = []\n",
    "documents = []\n",
    "for n,url in enumerate(BOE_MPC_news.link):\n",
    "    print('\\r working on {} document'.format(n),end='')\n",
    "    page = requests.get(url)\n",
    "    soup = BeautifulSoup(page.content, 'html.parser')\n",
    "    try:\n",
    "        location = 'https://www.bankofengland.co.uk'+ soup.find_all('', class_='btn btn-pubs btn-has-img btn-lg')[0]['href']\n",
    "        pdf_locations.append(location)\n",
    "        if_downloaded.append(-1)\n",
    "        documents.append('')\n",
    "        \n",
    "        \n",
    "        response = urllib.request.urlopen(location)\n",
    "        file = open('.\\downloaded_files\\MPC\\{}.pdf'.format(list(BOE_MPC_news.title)[n]), 'wb')\n",
    "        file.write(response.read())\n",
    "        file.close()\n",
    "    except:\n",
    "        content = []\n",
    "        for item in soup.find_all('', class_='col9'):\n",
    "            if 'global-breadcrumbs' not in str(item):\n",
    "                content.extend(item.get_text().replace('\\xa0','').replace('\\r','').split('\\n'))\n",
    "        if_downloaded.append(1)\n",
    "        documents.append(content)\n",
    "BOE_MPC_news.loc[:,'content'] = documents\n",
    "BOE_MPC_news.loc[:,'downloaded'] = if_downloaded"
   ]
  },
  {
   "cell_type": "markdown",
   "metadata": {},
   "source": [
    "### Download all minutes files"
   ]
  },
  {
   "cell_type": "code",
   "execution_count": 37,
   "metadata": {},
   "outputs": [
    {
     "data": {
      "text/html": [
       "<div>\n",
       "<style scoped>\n",
       "    .dataframe tbody tr th:only-of-type {\n",
       "        vertical-align: middle;\n",
       "    }\n",
       "\n",
       "    .dataframe tbody tr th {\n",
       "        vertical-align: top;\n",
       "    }\n",
       "\n",
       "    .dataframe thead th {\n",
       "        text-align: right;\n",
       "    }\n",
       "</style>\n",
       "<table border=\"1\" class=\"dataframe\">\n",
       "  <thead>\n",
       "    <tr style=\"text-align: right;\">\n",
       "      <th></th>\n",
       "      <th>title</th>\n",
       "      <th>link</th>\n",
       "      <th>date</th>\n",
       "      <th>tag</th>\n",
       "    </tr>\n",
       "  </thead>\n",
       "  <tbody>\n",
       "    <tr>\n",
       "      <th>1</th>\n",
       "      <td>Minutes of the Wholesale Distribution Steering...</td>\n",
       "      <td>https://www.bankofengland.co.uk/minutes/2020/w...</td>\n",
       "      <td>27 May 2020</td>\n",
       "      <td>// News // Minutes</td>\n",
       "    </tr>\n",
       "    <tr>\n",
       "      <th>12</th>\n",
       "      <td>Minutes of the RTGS renewal programme external...</td>\n",
       "      <td>https://www.bankofengland.co.uk/minutes/2020/m...</td>\n",
       "      <td>01 May 2020</td>\n",
       "      <td>// News // Minutes</td>\n",
       "    </tr>\n",
       "    <tr>\n",
       "      <th>14</th>\n",
       "      <td>Minutes of Money Markets Committee meeting - 9...</td>\n",
       "      <td>https://www.bankofengland.co.uk/minutes/2020/m...</td>\n",
       "      <td>29 April 2020</td>\n",
       "      <td>// News // Minutes</td>\n",
       "    </tr>\n",
       "    <tr>\n",
       "      <th>15</th>\n",
       "      <td>Minutes of the UK Money Markets Code Sub-Commi...</td>\n",
       "      <td>https://www.bankofengland.co.uk/minutes/2020/u...</td>\n",
       "      <td>29 April 2020</td>\n",
       "      <td>// News // Minutes</td>\n",
       "    </tr>\n",
       "    <tr>\n",
       "      <th>21</th>\n",
       "      <td>Minutes of the Wholesale Distribution Steering...</td>\n",
       "      <td>https://www.bankofengland.co.uk/minutes/2020/w...</td>\n",
       "      <td>20 April 2020</td>\n",
       "      <td>// News // Minutes</td>\n",
       "    </tr>\n",
       "    <tr>\n",
       "      <th>...</th>\n",
       "      <td>...</td>\n",
       "      <td>...</td>\n",
       "      <td>...</td>\n",
       "      <td>...</td>\n",
       "    </tr>\n",
       "    <tr>\n",
       "      <th>2697</th>\n",
       "      <td>Minutes of the MPC Meeting held on 8 and 9 Oct...</td>\n",
       "      <td>https://www.bankofengland.co.uk/minutes/1997/m...</td>\n",
       "      <td>12 November 1997</td>\n",
       "      <td>// News // Minutes</td>\n",
       "    </tr>\n",
       "    <tr>\n",
       "      <th>2698</th>\n",
       "      <td>Minutes of the MPC Meeting held on 10 and 11 S...</td>\n",
       "      <td>https://www.bankofengland.co.uk/minutes/1997/m...</td>\n",
       "      <td>15 October 1997</td>\n",
       "      <td>// News // Minutes</td>\n",
       "    </tr>\n",
       "    <tr>\n",
       "      <th>2699</th>\n",
       "      <td>Minutes of the MPC Meeting held on 6 and 7 Aug...</td>\n",
       "      <td>https://www.bankofengland.co.uk/minutes/1997/m...</td>\n",
       "      <td>17 September 1997</td>\n",
       "      <td>// News // Minutes</td>\n",
       "    </tr>\n",
       "    <tr>\n",
       "      <th>2700</th>\n",
       "      <td>Minutes of the MPC Meeting held on 9 and 10 Ju...</td>\n",
       "      <td>https://www.bankofengland.co.uk/minutes/1997/m...</td>\n",
       "      <td>13 August 1997</td>\n",
       "      <td>// News // Minutes</td>\n",
       "    </tr>\n",
       "    <tr>\n",
       "      <th>2701</th>\n",
       "      <td>Minutes of the MPC Meeting held on 5 and 6 Jun...</td>\n",
       "      <td>https://www.bankofengland.co.uk/minutes/1997/m...</td>\n",
       "      <td>16 July 1997</td>\n",
       "      <td>// News // Minutes</td>\n",
       "    </tr>\n",
       "  </tbody>\n",
       "</table>\n",
       "<p>427 rows × 4 columns</p>\n",
       "</div>"
      ],
      "text/plain": [
       "                                                  title  \\\n",
       "1     Minutes of the Wholesale Distribution Steering...   \n",
       "12    Minutes of the RTGS renewal programme external...   \n",
       "14    Minutes of Money Markets Committee meeting - 9...   \n",
       "15    Minutes of the UK Money Markets Code Sub-Commi...   \n",
       "21    Minutes of the Wholesale Distribution Steering...   \n",
       "...                                                 ...   \n",
       "2697  Minutes of the MPC Meeting held on 8 and 9 Oct...   \n",
       "2698  Minutes of the MPC Meeting held on 10 and 11 S...   \n",
       "2699  Minutes of the MPC Meeting held on 6 and 7 Aug...   \n",
       "2700  Minutes of the MPC Meeting held on 9 and 10 Ju...   \n",
       "2701  Minutes of the MPC Meeting held on 5 and 6 Jun...   \n",
       "\n",
       "                                                   link               date  \\\n",
       "1     https://www.bankofengland.co.uk/minutes/2020/w...        27 May 2020   \n",
       "12    https://www.bankofengland.co.uk/minutes/2020/m...        01 May 2020   \n",
       "14    https://www.bankofengland.co.uk/minutes/2020/m...      29 April 2020   \n",
       "15    https://www.bankofengland.co.uk/minutes/2020/u...      29 April 2020   \n",
       "21    https://www.bankofengland.co.uk/minutes/2020/w...      20 April 2020   \n",
       "...                                                 ...                ...   \n",
       "2697  https://www.bankofengland.co.uk/minutes/1997/m...   12 November 1997   \n",
       "2698  https://www.bankofengland.co.uk/minutes/1997/m...    15 October 1997   \n",
       "2699  https://www.bankofengland.co.uk/minutes/1997/m...  17 September 1997   \n",
       "2700  https://www.bankofengland.co.uk/minutes/1997/m...     13 August 1997   \n",
       "2701  https://www.bankofengland.co.uk/minutes/1997/m...       16 July 1997   \n",
       "\n",
       "                     tag  \n",
       "1     // News // Minutes  \n",
       "12    // News // Minutes  \n",
       "14    // News // Minutes  \n",
       "15    // News // Minutes  \n",
       "21    // News // Minutes  \n",
       "...                  ...  \n",
       "2697  // News // Minutes  \n",
       "2698  // News // Minutes  \n",
       "2699  // News // Minutes  \n",
       "2700  // News // Minutes  \n",
       "2701  // News // Minutes  \n",
       "\n",
       "[427 rows x 4 columns]"
      ]
     },
     "execution_count": 37,
     "metadata": {},
     "output_type": "execute_result"
    }
   ],
   "source": [
    "all_miniutes = news_and_minutes.loc[news_and_minutes['tag']=='// News // Minutes',:]\n",
    "all_miniutes"
   ]
  },
  {
   "cell_type": "code",
   "execution_count": 223,
   "metadata": {},
   "outputs": [
    {
     "name": "stdout",
     "output_type": "stream",
     "text": [
      " working on 426 document"
     ]
    },
    {
     "name": "stderr",
     "output_type": "stream",
     "text": [
      "SettingWithCopyWarning: \n",
      "A value is trying to be set on a copy of a slice from a DataFrame.\n",
      "Try using .loc[row_indexer,col_indexer] = value instead\n",
      "\n",
      "See the caveats in the documentation: https://pandas.pydata.org/pandas-docs/stable/user_guide/indexing.html#returning-a-view-versus-a-copy [indexing.py:844]\n",
      "SettingWithCopyWarning: \n",
      "A value is trying to be set on a copy of a slice from a DataFrame.\n",
      "Try using .loc[row_indexer,col_indexer] = value instead\n",
      "\n",
      "See the caveats in the documentation: https://pandas.pydata.org/pandas-docs/stable/user_guide/indexing.html#returning-a-view-versus-a-copy [indexing.py:965]\n"
     ]
    }
   ],
   "source": [
    "all_miniutes_locations = []\n",
    "documents = []\n",
    "\n",
    "for n,url in enumerate(all_miniutes.link):\n",
    "    print('\\r working on {} document'.format(n),end='')\n",
    "    page = requests.get(url)\n",
    "    soup = BeautifulSoup(page.content, 'html.parser')\n",
    "    try:\n",
    "        location = 'https://www.bankofengland.co.uk'+ soup.find_all('', class_='btn btn-pubs btn-has-img btn-lg')[0]['href']\n",
    "    except:\n",
    "        try:\n",
    "            location = 'https://www.bankofengland.co.uk'+ soup.find_all('', class_='btn btn-cta btn-lg')[0]['href']\n",
    "        except:\n",
    "            for i in soup.find_all('', class_='col9'):\n",
    "                if i.find('a') !=None:\n",
    "                    location = 'https://www.bankofengland.co.uk' + i.find('a')['href']\n",
    "    documents.append('')\n",
    "    all_miniutes_locations.append(location)\n",
    "    response = urllib.request.urlopen(location)\n",
    "    file = open('.\\downloaded_files\\minutes\\{}.pdf'.format(list(all_miniutes.title)[n]), 'wb')\n",
    "    file.write(response.read())\n",
    "    file.close()\n",
    "    \n",
    "all_miniutes.loc[:,'content'] = documents\n",
    "all_miniutes.loc[:,'download'] = all_miniutes_locations"
   ]
  },
  {
   "cell_type": "code",
   "execution_count": 259,
   "metadata": {},
   "outputs": [
    {
     "data": {
      "text/html": [
       "<div>\n",
       "<style scoped>\n",
       "    .dataframe tbody tr th:only-of-type {\n",
       "        vertical-align: middle;\n",
       "    }\n",
       "\n",
       "    .dataframe tbody tr th {\n",
       "        vertical-align: top;\n",
       "    }\n",
       "\n",
       "    .dataframe thead th {\n",
       "        text-align: right;\n",
       "    }\n",
       "</style>\n",
       "<table border=\"1\" class=\"dataframe\">\n",
       "  <thead>\n",
       "    <tr style=\"text-align: right;\">\n",
       "      <th></th>\n",
       "      <th>title</th>\n",
       "      <th>link</th>\n",
       "      <th>date</th>\n",
       "      <th>tag</th>\n",
       "      <th>content</th>\n",
       "      <th>download</th>\n",
       "    </tr>\n",
       "  </thead>\n",
       "  <tbody>\n",
       "    <tr>\n",
       "      <th>1</th>\n",
       "      <td>Minutes of the Wholesale Distribution Steering...</td>\n",
       "      <td>https://www.bankofengland.co.uk/minutes/2020/w...</td>\n",
       "      <td>27 May 2020</td>\n",
       "      <td>// News // Minutes</td>\n",
       "      <td></td>\n",
       "      <td>https://www.bankofengland.co.uk/-/media/boe/fi...</td>\n",
       "    </tr>\n",
       "    <tr>\n",
       "      <th>12</th>\n",
       "      <td>Minutes of the RTGS renewal programme external...</td>\n",
       "      <td>https://www.bankofengland.co.uk/minutes/2020/m...</td>\n",
       "      <td>01 May 2020</td>\n",
       "      <td>// News // Minutes</td>\n",
       "      <td></td>\n",
       "      <td>https://www.bankofengland.co.uk/-/media/boe/fi...</td>\n",
       "    </tr>\n",
       "    <tr>\n",
       "      <th>14</th>\n",
       "      <td>Minutes of Money Markets Committee meeting - 9...</td>\n",
       "      <td>https://www.bankofengland.co.uk/minutes/2020/m...</td>\n",
       "      <td>29 April 2020</td>\n",
       "      <td>// News // Minutes</td>\n",
       "      <td></td>\n",
       "      <td>https://www.bankofengland.co.uk/-/media/boe/fi...</td>\n",
       "    </tr>\n",
       "    <tr>\n",
       "      <th>15</th>\n",
       "      <td>Minutes of the UK Money Markets Code Sub-Commi...</td>\n",
       "      <td>https://www.bankofengland.co.uk/minutes/2020/u...</td>\n",
       "      <td>29 April 2020</td>\n",
       "      <td>// News // Minutes</td>\n",
       "      <td></td>\n",
       "      <td>https://www.bankofengland.co.uk/-/media/boe/fi...</td>\n",
       "    </tr>\n",
       "    <tr>\n",
       "      <th>21</th>\n",
       "      <td>Minutes of the Wholesale Distribution Steering...</td>\n",
       "      <td>https://www.bankofengland.co.uk/minutes/2020/w...</td>\n",
       "      <td>20 April 2020</td>\n",
       "      <td>// News // Minutes</td>\n",
       "      <td></td>\n",
       "      <td>https://www.bankofengland.co.uk/-/media/boe/fi...</td>\n",
       "    </tr>\n",
       "    <tr>\n",
       "      <th>...</th>\n",
       "      <td>...</td>\n",
       "      <td>...</td>\n",
       "      <td>...</td>\n",
       "      <td>...</td>\n",
       "      <td>...</td>\n",
       "      <td>...</td>\n",
       "    </tr>\n",
       "    <tr>\n",
       "      <th>2697</th>\n",
       "      <td>Minutes of the MPC Meeting held on 8 and 9 Oct...</td>\n",
       "      <td>https://www.bankofengland.co.uk/minutes/1997/m...</td>\n",
       "      <td>12 November 1997</td>\n",
       "      <td>// News // Minutes</td>\n",
       "      <td></td>\n",
       "      <td>https://www.bankofengland.co.uk/-/media/boe/fi...</td>\n",
       "    </tr>\n",
       "    <tr>\n",
       "      <th>2698</th>\n",
       "      <td>Minutes of the MPC Meeting held on 10 and 11 S...</td>\n",
       "      <td>https://www.bankofengland.co.uk/minutes/1997/m...</td>\n",
       "      <td>15 October 1997</td>\n",
       "      <td>// News // Minutes</td>\n",
       "      <td></td>\n",
       "      <td>https://www.bankofengland.co.uk/-/media/boe/fi...</td>\n",
       "    </tr>\n",
       "    <tr>\n",
       "      <th>2699</th>\n",
       "      <td>Minutes of the MPC Meeting held on 6 and 7 Aug...</td>\n",
       "      <td>https://www.bankofengland.co.uk/minutes/1997/m...</td>\n",
       "      <td>17 September 1997</td>\n",
       "      <td>// News // Minutes</td>\n",
       "      <td></td>\n",
       "      <td>https://www.bankofengland.co.uk/-/media/boe/fi...</td>\n",
       "    </tr>\n",
       "    <tr>\n",
       "      <th>2700</th>\n",
       "      <td>Minutes of the MPC Meeting held on 9 and 10 Ju...</td>\n",
       "      <td>https://www.bankofengland.co.uk/minutes/1997/m...</td>\n",
       "      <td>13 August 1997</td>\n",
       "      <td>// News // Minutes</td>\n",
       "      <td></td>\n",
       "      <td>https://www.bankofengland.co.uk/-/media/boe/fi...</td>\n",
       "    </tr>\n",
       "    <tr>\n",
       "      <th>2701</th>\n",
       "      <td>Minutes of the MPC Meeting held on 5 and 6 Jun...</td>\n",
       "      <td>https://www.bankofengland.co.uk/minutes/1997/m...</td>\n",
       "      <td>16 July 1997</td>\n",
       "      <td>// News // Minutes</td>\n",
       "      <td></td>\n",
       "      <td>https://www.bankofengland.co.uk/-/media/boe/fi...</td>\n",
       "    </tr>\n",
       "  </tbody>\n",
       "</table>\n",
       "<p>427 rows × 6 columns</p>\n",
       "</div>"
      ],
      "text/plain": [
       "                                                  title  \\\n",
       "1     Minutes of the Wholesale Distribution Steering...   \n",
       "12    Minutes of the RTGS renewal programme external...   \n",
       "14    Minutes of Money Markets Committee meeting - 9...   \n",
       "15    Minutes of the UK Money Markets Code Sub-Commi...   \n",
       "21    Minutes of the Wholesale Distribution Steering...   \n",
       "...                                                 ...   \n",
       "2697  Minutes of the MPC Meeting held on 8 and 9 Oct...   \n",
       "2698  Minutes of the MPC Meeting held on 10 and 11 S...   \n",
       "2699  Minutes of the MPC Meeting held on 6 and 7 Aug...   \n",
       "2700  Minutes of the MPC Meeting held on 9 and 10 Ju...   \n",
       "2701  Minutes of the MPC Meeting held on 5 and 6 Jun...   \n",
       "\n",
       "                                                   link               date  \\\n",
       "1     https://www.bankofengland.co.uk/minutes/2020/w...        27 May 2020   \n",
       "12    https://www.bankofengland.co.uk/minutes/2020/m...        01 May 2020   \n",
       "14    https://www.bankofengland.co.uk/minutes/2020/m...      29 April 2020   \n",
       "15    https://www.bankofengland.co.uk/minutes/2020/u...      29 April 2020   \n",
       "21    https://www.bankofengland.co.uk/minutes/2020/w...      20 April 2020   \n",
       "...                                                 ...                ...   \n",
       "2697  https://www.bankofengland.co.uk/minutes/1997/m...   12 November 1997   \n",
       "2698  https://www.bankofengland.co.uk/minutes/1997/m...    15 October 1997   \n",
       "2699  https://www.bankofengland.co.uk/minutes/1997/m...  17 September 1997   \n",
       "2700  https://www.bankofengland.co.uk/minutes/1997/m...     13 August 1997   \n",
       "2701  https://www.bankofengland.co.uk/minutes/1997/m...       16 July 1997   \n",
       "\n",
       "                     tag content  \\\n",
       "1     // News // Minutes           \n",
       "12    // News // Minutes           \n",
       "14    // News // Minutes           \n",
       "15    // News // Minutes           \n",
       "21    // News // Minutes           \n",
       "...                  ...     ...   \n",
       "2697  // News // Minutes           \n",
       "2698  // News // Minutes           \n",
       "2699  // News // Minutes           \n",
       "2700  // News // Minutes           \n",
       "2701  // News // Minutes           \n",
       "\n",
       "                                               download  \n",
       "1     https://www.bankofengland.co.uk/-/media/boe/fi...  \n",
       "12    https://www.bankofengland.co.uk/-/media/boe/fi...  \n",
       "14    https://www.bankofengland.co.uk/-/media/boe/fi...  \n",
       "15    https://www.bankofengland.co.uk/-/media/boe/fi...  \n",
       "21    https://www.bankofengland.co.uk/-/media/boe/fi...  \n",
       "...                                                 ...  \n",
       "2697  https://www.bankofengland.co.uk/-/media/boe/fi...  \n",
       "2698  https://www.bankofengland.co.uk/-/media/boe/fi...  \n",
       "2699  https://www.bankofengland.co.uk/-/media/boe/fi...  \n",
       "2700  https://www.bankofengland.co.uk/-/media/boe/fi...  \n",
       "2701  https://www.bankofengland.co.uk/-/media/boe/fi...  \n",
       "\n",
       "[427 rows x 6 columns]"
      ]
     },
     "execution_count": 259,
     "metadata": {},
     "output_type": "execute_result"
    }
   ],
   "source": [
    "all_miniutes"
   ]
  },
  {
   "attachments": {
    "image.png": {
     "image/png": "[encoded data removed]"
    }
   },
   "cell_type": "markdown",
   "metadata": {},
   "source": [
    "![image.png](attachment:image.png)"
   ]
  },
  {
   "cell_type": "code",
   "execution_count": 20,
   "metadata": {},
   "outputs": [],
   "source": [
    "import docx2txt\n",
    "# read in word file\n",
    "result = docx2txt.process(\"Minutes of the London FXJSC meeting - September 2016.docx\")"
   ]
  },
  {
   "cell_type": "code",
   "execution_count": 29,
   "metadata": {},
   "outputs": [
    {
     "data": {
      "text/plain": [
       "['The Chair welcomed all attendees and informed them that Adrian Boehler (BNP Paribas) had joined the Committee.',\n",
       " 'Apologies were received from Adrian Boehler, David Puth, Frances Hinden, Galina Dimitrova, Zar Amrolia, Chris Allen and Isabelle Dennigan.',\n",
       " 'Tom Jacques (Greenwich Associates) provided a presentation summarising some of the initial findings from a pilot survey they conducted on conduct and fair outcomes in the FX market. Attendees discussed: (i) how fair outcomes can be defined and determined; (ii) the scope for broad-based independent surveys to provide information on conduct standards across the industry and how they can be used to improve standards and; (iii) the importance of client feedback and an understanding of what the key components of fair outcomes are from their perspective. Tom Jacques noted that Greenwich had further refined the survey questions following the pilot and were looking to incorporate similar questions into their fixed income, cash equities and corporate interest rate derivatives programmes globally.',\n",
       " 'Guy Debelle (Reserve Bank of Australia and BIS Foreign Exchange Working Group Chair) updated attendees on the work of the BIS Foreign Exchange Working Group',\n",
       " '(FXWG) since the Phase 1 material for the FX Global Code (the ‘Code’) was published in May 2016. He also provided an overview of the next steps for Phase 2 including: (i) the new topics that were being addressed; (ii) the process for the development and refinement of examples and; (iii) the approach and timeframes for engaging market participants on the Foreign Exchange Committees (FXCs). The Chair noted that additional FXJSC meetings had been scheduled to discuss the draft Code text and encouraged members to submit nominations for each of the FXJSC Code review working groups.',\n",
       " 'Grigoria Christodoulou (Bank of England) provided an update on the adherence workstream, noting that the adherence initiatives announced in May 2016, including establishing a link between adherence to the Code and membership of FXCs, were being refined and expanded upon. Furthermore, the Market Participants Group (MPG) had established a working group to consider a range of potential market based mechanisms to raise awareness of the Code and promote adherence to it as well as provide input into the overall adherence workstream.',\n",
       " 'Some attendees noted that ensuring sufficient outreach, both geographically and across different types of institutions, was vital to promulgate the Code and support widespread adoption. Guy Debelle agreed and noted that outreach to market associations and infrastructures were key to achieving this. Accordingly, FXWG members were engaging with associations and infrastructures in their jurisdiction to understand what measures they may put in place to promote and facilitate adherence to the Code among their members.',\n",
       " 'Jamie Black (Financial Conduct Authority) provided an update on a number of regulatory matters related to FX including: (i) the MiFID II Delegated Regulation definition of foreign exchange derivative instruments which was adopted by the European Commission (EC) in April 2016; (ii) margin requirements for non-cleared derivatives trades noting that the European Supervisory Authorities (ESAs) had published an Opinion on the EC’s proposed amendments to the final draft Regulatory Technical Standards in September 2016 and; (iii) the FCA Remediation Programme where the firms involved had completed a detailed assessment of whether their culture, governance arrangements, policies, procedures, systems and controls were appropriate and adequate to manage the risks in their business. Jamie Black noted that the FCA had started to see improvements in the firms’ control environments, as well as in their overall culture and the quality of their governance arrangements.',\n",
       " 'The Operations sub-committee met on 7 September 2016 and discussed: (i) the resiliency of the FX market infrastructure around the UK referendum and any lessons learnt; (ii) the advantages and risks of increasingly automated settlement processes and; (iii) the results of the BIS and FXJSC turnover surveys.',\n",
       " 'Stephen Miller provided an update on recent membership changes and noted that the review of the overall sub-committee composition, to ensure that it reflected the diversity of the wholesale FX market, was ongoing.',\n",
       " 'Stephen Miller reminded attendees that the Operations sub-committee had created a working group to take forward the actions arising from the 2015 FX sector resilience exercise that examined the impact of the failure of a settlement engine on FX market operations. The working group had focused on three key areas covering infrastructure transparency, FX contingency processes and bilateral netting abilities.',\n",
       " 'The output of this working group was the FX Settlement Crisis Management Playbook (the ‘Playbook’) which set out various scenarios, trigger points and potential solutions. This Playbook was endorsed by the Operations sub-committee at their September meeting and would next be presented to the Bank of England’s Cross Market Operational Resilience Group (CMORG) as the original sponsor of the work.',\n",
       " 'Attendees agreed that the Playbook was valuable in providing a common operations framework across a large sector of the market. The Chair thanked the Operations sub- committee for their work and remarked that it was important that the Playbook continued to evolve in line with changes in market structure.',\n",
       " 'James O’Connor (Bank of England) provided an overview of FX market developments since the May FXJSC meeting, focusing on market functioning around the UK referendum. Attendees broadly agreed that there were a few factors that had contributed to the FX market’s resiliency around this event including: (i) the UK referendum was a known event and thus firms had undertaken extensive planning to reduce other risks such as by ensuring sufficient resourcing was in place across business lines and avoiding system developments around that time to ensure a more stable system environment; (ii) the steady flow of news as the results were published was likely to have reduced sudden and sharp market moves and; (iii) appropriate adjustments in risk appetite and active management of client expectations by banks. Attendees discussed how the FX market’s reaction and resiliency might differ in the case of an unexpected event.',\n",
       " 'On the outlook for the major currency pairs up to year-end, attendees thought there were a variety of factors that could cause a repositioning in the market including central bank policy announcements, the result of the US election and the impact caused by the anticipated announcement of the UK invoking Article 50.',\n",
       " 'Chris Cox (Bank of England) provided an overview of the key themes from the recently published April 2016 BIS Triennial and FXJSC turnover surveys. The group briefly discussed the results, including: (i) the drivers behind, and potential impact of, the decline in the UK’s share of global FX turnover; (ii) the continuation of existing',\n",
       " 'trends such as increased counterparty concentration and greater liquidity fragmentation and; (iii) the impact of the growth of the Renminbi.',\n",
       " 'The next meeting of the FXJSC will be held on 19 December 2016.']"
      ]
     },
     "execution_count": 29,
     "metadata": {},
     "output_type": "execute_result"
    }
   ],
   "source": [
    "Word_set = [i for i in result.split('\\n') if i.count(' ')>=12 and 'http://' not in i]"
   ]
  },
  {
   "cell_type": "code",
   "execution_count": 58,
   "metadata": {},
   "outputs": [
    {
     "name": "stderr",
     "output_type": "stream",
     "text": [
      "C:\\Users\\lunarhero\\anaconda3\\lib\\site-packages\\pandas\\core\\indexing.py:965: SettingWithCopyWarning: \n",
      "A value is trying to be set on a copy of a slice from a DataFrame.\n",
      "Try using .loc[row_indexer,col_indexer] = value instead\n",
      "\n",
      "See the caveats in the documentation: https://pandas.pydata.org/pandas-docs/stable/user_guide/indexing.html#returning-a-view-versus-a-copy\n",
      "  self.obj[item] = s\n",
      "C:\\Users\\lunarhero\\anaconda3\\lib\\site-packages\\pandas\\core\\indexing.py:670: SettingWithCopyWarning: \n",
      "A value is trying to be set on a copy of a slice from a DataFrame\n",
      "\n",
      "See the caveats in the documentation: https://pandas.pydata.org/pandas-docs/stable/user_guide/indexing.html#returning-a-view-versus-a-copy\n",
      "  self._setitem_with_indexer(indexer, value)\n",
      "C:\\Users\\lunarhero\\anaconda3\\lib\\site-packages\\ipykernel_launcher.py:7: SettingWithCopyWarning: \n",
      "A value is trying to be set on a copy of a slice from a DataFrame\n",
      "\n",
      "See the caveats in the documentation: https://pandas.pydata.org/pandas-docs/stable/user_guide/indexing.html#returning-a-view-versus-a-copy\n",
      "  import sys\n"
     ]
    }
   ],
   "source": [
    "import os\n",
    "import numpy as np\n",
    "all_miniutes.loc[:,'document_string'] = ''\n",
    "for file in os.listdir(\"./converted_files/minutes\"):\n",
    "    result = docx2txt.process(\"./converted_files/minutes/\"+file)\n",
    "    Word_set = [[i for i in result.split('\\n') if i.count(' ')>=12 and 'http://' not in i]]\n",
    "    all_miniutes.loc[all_miniutes['title']==file[:-5],'document_string'] = Word_set"
   ]
  },
  {
   "cell_type": "code",
   "execution_count": 73,
   "metadata": {},
   "outputs": [
    {
     "data": {
      "text/plain": [
       "['https://www.bankofengland.co.uk/minutes/2020/minutes-of-the-rtgs-renewal-programme-external-advisory-body-march-2020',\n",
       " 'https://www.bankofengland.co.uk/minutes/2020/sonia-advisory-committee-february-2020',\n",
       " 'https://www.bankofengland.co.uk/minutes/2020/wholesale-distribution-steering-group-minutes-february-2020',\n",
       " 'https://www.bankofengland.co.uk/minutes/2020/uk-money-markets-code-sub-committee-january-2020',\n",
       " 'https://www.bankofengland.co.uk/minutes/2019/standards-advisory-panel-december-2019',\n",
       " 'https://www.bankofengland.co.uk/minutes/2019/rfr-november-2019',\n",
       " 'https://www.bankofengland.co.uk/minutes/2019/pra-fca-joint-climate-financial-risk-forum-november-2019',\n",
       " 'https://www.bankofengland.co.uk/minutes/2019/court-october-2019',\n",
       " 'https://www.bankofengland.co.uk/minutes/2019/fxjsc-legal-sub-committee-september-2019',\n",
       " 'https://www.bankofengland.co.uk/minutes/2019/court-july-2019',\n",
       " 'https://www.bankofengland.co.uk/minutes/2019/wholesale-distribution-steering-group-minutes-july-2019',\n",
       " 'https://www.bankofengland.co.uk/minutes/2019/pra-fca-joint-climate-financial-risk-forum-july-2019',\n",
       " 'https://www.bankofengland.co.uk/minutes/2019/fxjsc-8-february-2019',\n",
       " 'https://www.bankofengland.co.uk/minutes/2018/minutes-of-the-securities-lending-committee-meeting-november-2018',\n",
       " 'https://www.bankofengland.co.uk/minutes/2018/minutes-of-the-securities-lending-committee-meeting-september-2018',\n",
       " 'https://www.bankofengland.co.uk/minutes/2018/minutes-of-the-rtgs-renewal-transition-working-group-july-2018',\n",
       " 'https://www.bankofengland.co.uk/minutes/2018/minutes-of-the-securities-lending-committee-meeting-may-2018',\n",
       " 'https://www.bankofengland.co.uk/minutes/2018/money-markets-committee-march-2018',\n",
       " 'https://www.bankofengland.co.uk/minutes/2018/tech-uk-workshop-february-2018',\n",
       " 'https://www.bankofengland.co.uk/minutes/2018/synchronisation-workshop-february-2018',\n",
       " 'https://www.bankofengland.co.uk/minutes/2018/rfr-january-2018',\n",
       " 'https://www.bankofengland.co.uk/minutes/2018/global-liquidity-management-workshop-minutes-january-2018',\n",
       " 'https://www.bankofengland.co.uk/minutes/2017/fxjsc-22-november-2017',\n",
       " 'https://www.bankofengland.co.uk/minutes/2017/legal-sub-committee-november-2017',\n",
       " 'https://www.bankofengland.co.uk/minutes/2017/fxjsc-sub-committee-november-2017',\n",
       " 'https://www.bankofengland.co.uk/minutes/1997/monetary-policy-committee-july-1997',\n",
       " 'https://www.bankofengland.co.uk/minutes/1997/monetary-policy-committee-june-1997']"
      ]
     },
     "execution_count": 73,
     "metadata": {},
     "output_type": "execute_result"
    }
   ],
   "source": [
    "list(all_miniutes.loc[all_miniutes['document_string']=='','title\n",
    "                      '])"
   ]
  },
  {
   "cell_type": "code",
   "execution_count": 75,
   "metadata": {},
   "outputs": [
    {
     "name": "stdout",
     "output_type": "stream",
     "text": [
      "\r",
      " working on 65 document"
     ]
    }
   ],
   "source": [
    "url = 'https://www.bankofengland.co.uk/minutes/2020/minutes-of-the-rtgs-renewal-programme-external-advisory-body-march-2020'\n",
    "print('\\r working on {} document'.format(n),end='')\n",
    "page = requests.get(url)\n",
    "soup = BeautifulSoup(page.content, 'html.parser')\n",
    "try:\n",
    "    location = 'https://www.bankofengland.co.uk'+ soup.find_all('', class_='btn btn-pubs btn-has-img btn-lg')[0]['href']\n",
    "except:\n",
    "    try:\n",
    "        location = 'https://www.bankofengland.co.uk'+ soup.find_all('', class_='btn btn-cta btn-lg')[0]['href']\n",
    "    except:\n",
    "        for i in soup.find_all('', class_='col9'):\n",
    "            if i.find('a') !=None:\n",
    "                location = 'https://www.bankofengland.co.uk' + i.find('a')['href']\n"
   ]
  },
  {
   "cell_type": "code",
   "execution_count": null,
   "metadata": {},
   "outputs": [],
   "source": [
    "documents.append('')\n",
    "all_miniutes_locations.append(location)\n",
    "response = urllib.request.urlopen(location)\n",
    "file = open('.\\downloaded_files\\minutes\\{}.pdf'.format(list(all_miniutes.title)[n]), 'wb')\n",
    "file.write(response.read())\n",
    "file.close()"
   ]
  }
 ],
 "metadata": {
  "kernelspec": {
   "display_name": "Python 3",
   "language": "python",
   "name": "python3"
  },
  "language_info": {
   "codemirror_mode": {
    "name": "ipython",
    "version": 3
   },
   "file_extension": ".py",
   "mimetype": "text/x-python",
   "name": "python",
   "nbconvert_exporter": "python",
   "pygments_lexer": "ipython3",
   "version": "3.7.6"
  }
 },
 "nbformat": 4,
 "nbformat_minor": 2
}
